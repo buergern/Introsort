{
 "cells": [
  {
   "cell_type": "code",
   "execution_count": 1,
   "id": "2b9b4540",
   "metadata": {},
   "outputs": [],
   "source": [
    "import math\n",
    "import random\n",
    "\n",
    "def sort(arrayA):\n",
    "    maxdepth = math.floor((math.log(len(arrayA)))) * 2\n",
    "    p = 0\n",
    "    r = len(arrayA) - 1\n",
    "    introsort(arrayA, p, r, maxdepth)\n",
    "\n",
    "def introsort(arrayA, p, r, depthLimit):\n",
    "    n = r - p + 1\n",
    "    if n <=16:\n",
    "        insertion_sort(arrayA)\n",
    "    elif depthLimit == 0:\n",
    "        heapSort(arrayA, p, r)\n",
    "    else:   \n",
    "        q = random.randrange(p, r + 1)\n",
    "        new_q = partition(arrayA,p, r, q)\n",
    "        introsort(arrayA, p, new_q - 1, depthLimit - 1)\n",
    "        introsort(arrayA, new_q + 1, r, depthLimit - 1)\n",
    "\n",
    "def heapify(A, n, i):\n",
    "    largest = i     #Initialize largest as root\n",
    "    l = 2 * i + 1\n",
    "    r = 2 * i + 2\n",
    "\n",
    "    #See if left child of root exists and is > root\n",
    "    if l < n and A[largest] < A[l]:\n",
    "        largest = l\n",
    "    \n",
    "    #See if right child of root exists and is > root\n",
    "    if r < n and A[largest] < A[r]:\n",
    "        largest = r\n",
    "    \n",
    "    #Change root, if needed\n",
    "    if largest != i:\n",
    "        A[i], A[largest] = A[largest], A[i] #Swap\n",
    "\n",
    "        #Heapify the root\n",
    "        heapify(A, n, largest)\n",
    "#A is array, p is start, r is end\n",
    "def heapSort(A, p, r):\n",
    "    #n is length\n",
    "    n = r - p + 1\n",
    "\n",
    "    #Build a max heap\n",
    "    for i in range(n//2 - 1, -1, -1):\n",
    "        heapify(A, n, i)\n",
    "    \n",
    "    #One by one extract elements\n",
    "    for i in range(n - 1, 0, -1):\n",
    "        A[i], A[0] = A[0], A[i] #Swap\n",
    "        heapify(A, i, 0)\n",
    "\n",
    "#p = start, r = end, q = pivot\n",
    "def partition(A, p, r, q):\n",
    "    pivot = A[q]\n",
    "    tmp = []\n",
    "    for i in range(p, q):\n",
    "        tmp.append(A[i])\n",
    "    for i in range(q + 1, r + 1):\n",
    "        tmp.append(A[i])\n",
    "    i = p\n",
    "    j = r\n",
    "    for t in tmp:\n",
    "        if t <= pivot:\n",
    "            A[i] = t\n",
    "            i += 1\n",
    "        else:\n",
    "            A[j] = t\n",
    "            j -= 1\n",
    "    A[j] = pivot\n",
    "    return j\n",
    "\n",
    "def insertion_sort(lst):\n",
    "    for i in range(len(lst)):\n",
    "        key = lst[i]\n",
    "        j = i-1\n",
    "        while j >=0 and key < lst[j] :\n",
    "                lst[j+1] = lst[j]\n",
    "                j -= 1\n",
    "        lst[j+1] = key"
   ]
  },
  {
   "cell_type": "code",
   "execution_count": 2,
   "id": "b0a6d52a",
   "metadata": {},
   "outputs": [],
   "source": [
    "import time\n",
    "def benchmark(sorting_algorithm, input_list):\n",
    "    start_time = time.perf_counter()\n",
    "    for i in range(5):\n",
    "        lst = input_list.copy()\n",
    "        sorting_algorithm(lst)\n",
    "    end_time = time.perf_counter()\n",
    "    total_time = end_time - start_time\n",
    "    return total_time"
   ]
  },
  {
   "cell_type": "code",
   "execution_count": 3,
   "id": "cf6e7142",
   "metadata": {},
   "outputs": [],
   "source": [
    "list_size = [100, 1000, 2000, 3000]\n",
    "import random\n",
    "def generateBenchmarks(sortingAlgorithm, size, best, worst, average):\n",
    "    orderedList = list(range(size))\n",
    "    randList = orderedList.copy()\n",
    "    random.shuffle(randList)\n",
    "    reverseList = orderedList.copy()\n",
    "    reverseList.reverse()\n",
    "    best.append(benchmark(sortingAlgorithm, orderedList))\n",
    "    average.append(benchmark(sortingAlgorithm, randList))\n",
    "    worst.append(benchmark(sortingAlgorithm, reverseList))"
   ]
  },
  {
   "cell_type": "code",
   "execution_count": 4,
   "id": "1446e058",
   "metadata": {},
   "outputs": [],
   "source": [
    "intro_runtimes_best = []\n",
    "intro_runtimes_worst = []\n",
    "intro_runtimes_average = []\n",
    "\n",
    "for i in range(len(list_size)):\n",
    "    generateBenchmarks(sort, list_size[i], intro_runtimes_best, intro_runtimes_worst, intro_runtimes_average)"
   ]
  },
  {
   "cell_type": "code",
   "execution_count": 5,
   "id": "ec4b39cb",
   "metadata": {},
   "outputs": [
    {
     "name": "stdout",
     "output_type": "stream",
     "text": [
      "Intro Sort Growth Worst 1.870660071500772\n",
      "Intro Sort Growth Average 1.7856823691240993\n",
      "Intro Sort Growth Best 1.7834470886406493\n"
     ]
    }
   ],
   "source": [
    "import numpy as np\n",
    "from scipy.stats import linregress\n",
    "m, b, _, _, _= linregress(np.log(list_size), np.log(intro_runtimes_worst))\n",
    "print(\"Intro Sort Growth Worst\", m)\n",
    "\n",
    "m, b, _, _, _= linregress(np.log(list_size), np.log(intro_runtimes_average))\n",
    "print(\"Intro Sort Growth Average\", m)\n",
    "\n",
    "m, b, _, _, _= linregress(np.log(list_size), np.log(intro_runtimes_best))\n",
    "print(\"Intro Sort Growth Best\", m)"
   ]
  },
  {
   "cell_type": "code",
   "execution_count": 6,
   "id": "aad2ce63",
   "metadata": {},
   "outputs": [
    {
     "data": {
      "text/plain": [
       "<matplotlib.legend.Legend at 0x2c7013aa370>"
      ]
     },
     "execution_count": 6,
     "metadata": {},
     "output_type": "execute_result"
    },
    {
     "data": {
      "image/png": "[encoded data removed]",
      "text/plain": [
       "<Figure size 432x288 with 1 Axes>"
      ]
     },
     "metadata": {
      "needs_background": "light"
     },
     "output_type": "display_data"
    }
   ],
   "source": [
    "import matplotlib.pyplot as plt\n",
    "#Insertion Sort With 3 Cases\n",
    "plt.plot(list_size, intro_runtimes_best, label=\"best\")\n",
    "plt.plot(list_size, intro_runtimes_average, label=\"average\")\n",
    "plt.plot(list_size, intro_runtimes_worst, label=\"worst\")\n",
    "plt.xlabel(\"List Size\", fontsize=18)\n",
    "plt.ylabel(\"Run Time (s)\", fontsize=18)\n",
    "plt.title(\"Intro Sort\", fontsize=20)\n",
    "plt.xscale('log')\n",
    "plt.yscale('log')\n",
    "plt.legend()"
   ]
  }
 ],
 "metadata": {
  "kernelspec": {
   "display_name": "Python 3 (ipykernel)",
   "language": "python",
   "name": "python3"
  },
  "language_info": {
   "codemirror_mode": {
    "name": "ipython",
    "version": 3
   },
   "file_extension": ".py",
   "mimetype": "text/x-python",
   "name": "python",
   "nbconvert_exporter": "python",
   "pygments_lexer": "ipython3",
   "version": "3.9.7"
  }
 },
 "nbformat": 4,
 "nbformat_minor": 5
}
